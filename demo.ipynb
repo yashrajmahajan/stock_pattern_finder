{
 "cells": [
  {
   "cell_type": "code",
   "execution_count": 22,
   "metadata": {},
   "outputs": [],
   "source": [
    "import logging\n",
    "from pynse import *\n",
    "import datetime\n",
    "import json\n",
    "\n",
    "logging.basicConfig(level=logging.DEBUG)"
   ]
  },
  {
   "cell_type": "code",
   "execution_count": 33,
   "metadata": {},
   "outputs": [
    {
     "name": "stderr",
     "output_type": "stream",
     "text": [
      "INFO:pynse.core:pyNse cache size: (49.32, 'KB').\n",
      "You may want to run `nse.clear_data()` if running low on disk space.\n"
     ]
    }
   ],
   "source": [
    "nse = Nse()"
   ]
  },
  {
   "cell_type": "code",
   "execution_count": 34,
   "metadata": {},
   "outputs": [
    {
     "name": "stderr",
     "output_type": "stream",
     "text": [
      "INFO:pynse.core:downloading quote for ITC EQ\n",
      "DEBUG:urllib3.connectionpool:Starting new HTTPS connection (1): www.nseindia.com:443\n",
      "DEBUG:urllib3.connectionpool:https://www.nseindia.com:443 \"GET / HTTP/1.1\" 200 41132\n",
      "DEBUG:urllib3.connectionpool:https://www.nseindia.com:443 \"GET /api/quote-equity?symbol=ITC HTTP/1.1\" 200 861\n",
      "DEBUG:urllib3.connectionpool:Starting new HTTPS connection (1): www.nseindia.com:443\n",
      "DEBUG:urllib3.connectionpool:https://www.nseindia.com:443 \"GET / HTTP/1.1\" 200 41202\n",
      "DEBUG:urllib3.connectionpool:https://www.nseindia.com:443 \"GET /api/quote-equity?symbol=ITC&section=trade_info HTTP/1.1\" 200 470\n"
     ]
    }
   ],
   "source": [
    "data = nse.get_quote('ITC')\n",
    "file = open('output.json', 'w')\n",
    "json.dump(data, file, default=str)\n",
    "file.close()"
   ]
  }
 ],
 "metadata": {
  "interpreter": {
   "hash": "dcacb0086e9a4f4eabd41c33bf4faac5ea0a3337ed3f5eff0680afa930572c04"
  },
  "kernelspec": {
   "display_name": "Python 3.9.6 64-bit",
   "name": "python3"
  },
  "language_info": {
   "codemirror_mode": {
    "name": "ipython",
    "version": 3
   },
   "file_extension": ".py",
   "mimetype": "text/x-python",
   "name": "python",
   "nbconvert_exporter": "python",
   "pygments_lexer": "ipython3",
   "version": "3.9.6"
  },
  "orig_nbformat": 4
 },
 "nbformat": 4,
 "nbformat_minor": 2
}
